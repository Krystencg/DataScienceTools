{
 "cells": [
  {
   "cell_type": "markdown",
   "id": "2ad22ca0-722f-4669-8eb8-25ce5e3f325d",
   "metadata": {},
   "source": [
    "## Data Science Tools and Ecosystem"
   ]
  },
  {
   "cell_type": "markdown",
   "id": "7c80e894-6a14-4670-809e-3dadb4e8c289",
   "metadata": {},
   "source": [
    "In this notebook, Data Science Tools and Ecosystem are summarized."
   ]
  },
  {
   "cell_type": "markdown",
   "id": "55eb3a7b-ebb0-465e-aea5-a5957d98c16b",
   "metadata": {},
   "source": [
    "Some of the most popular languages that Data Scientists use are: \n",
    "1. Python\n",
    "2. R\n",
    "3. Java"
   ]
  },
  {
   "cell_type": "markdown",
   "id": "2f89d823-4bfa-4571-8957-f18a7af07c0d",
   "metadata": {},
   "source": [
    "Some of the commonly used libraries used by Data Scientists include:\n",
    "1. Pandas\n",
    "2. NumPy\n",
    "3. Matplotlib\n",
    "4. TensorFlow"
   ]
  },
  {
   "cell_type": "markdown",
   "id": "1f013b65-3133-4dc2-9b99-b9400517e5cc",
   "metadata": {},
   "source": [
    "| Data Science Tools |\r\n",
    "|:--------:|\r",
    "Apache Spark \n",
    "|Python|\n",
    "|Scikit Learn|    |"
   ]
  },
  {
   "cell_type": "markdown",
   "id": "9e48a565-63c5-4c36-b120-f504b470fa59",
   "metadata": {},
   "source": [
    "Below are a few examples of evaluating arithmetic expressions in Python"
   ]
  },
  {
   "cell_type": "code",
   "execution_count": 14,
   "id": "b631f021-bd68-4f8e-b610-262562a9ccb1",
   "metadata": {},
   "outputs": [
    {
     "data": {
      "text/plain": [
       "17"
      ]
     },
     "execution_count": 14,
     "metadata": {},
     "output_type": "execute_result"
    }
   ],
   "source": [
    "(3*4)+5\n",
    "#This a simple arithmetic expression to multiply then add integers"
   ]
  },
  {
   "cell_type": "code",
   "execution_count": 20,
   "id": "fcf956cc-638c-4035-843a-54ca92cda1a1",
   "metadata": {},
   "outputs": [
    {
     "data": {
      "text/plain": [
       "3.3333333333333335"
      ]
     },
     "execution_count": 20,
     "metadata": {},
     "output_type": "execute_result"
    }
   ],
   "source": [
    "200/60\n",
    "#This will convert 200 minutes to hours by diving by 60"
   ]
  },
  {
   "cell_type": "markdown",
   "id": "086da36c-da52-428e-86ca-fa7dff8cf7ce",
   "metadata": {},
   "source": [
    "**Objectives:**\n",
    "* List open souce Data Science tools\n",
    "* List popular languages in Data Science Languages\n",
    "* List common Data Science Libraries\n",
    "* Demonstrate arithmetic in python "
   ]
  },
  {
   "cell_type": "markdown",
   "id": "c9bd3731-1798-469b-8c66-b44846be8ee4",
   "metadata": {},
   "source": [
    "## Author\n",
    "Krysten Graham"
   ]
  },
  {
   "cell_type": "code",
   "execution_count": null,
   "id": "6ed76770-1651-4417-8d1c-1b0dcebef51a",
   "metadata": {},
   "outputs": [],
   "source": []
  }
 ],
 "metadata": {
  "kernelspec": {
   "display_name": "anaconda-2024.02-py310",
   "language": "python",
   "name": "conda-env-anaconda-2024.02-py310-py"
  },
  "language_info": {
   "codemirror_mode": {
    "name": "ipython",
    "version": 3
   },
   "file_extension": ".py",
   "mimetype": "text/x-python",
   "name": "python",
   "nbconvert_exporter": "python",
   "pygments_lexer": "ipython3",
   "version": "3.10.14"
  }
 },
 "nbformat": 4,
 "nbformat_minor": 5
}
